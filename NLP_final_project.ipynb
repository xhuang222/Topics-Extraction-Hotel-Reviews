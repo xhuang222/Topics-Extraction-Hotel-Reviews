{
 "cells": [
  {
   "cell_type": "markdown",
   "metadata": {},
   "source": [
    "## Key Topics Extraction and Contextual Sentiment of Hotel Reviews"
   ]
  },
  {
   "cell_type": "markdown",
   "metadata": {},
   "source": [
    "## 1. Preprocess"
   ]
  },
  {
   "cell_type": "code",
   "execution_count": 3,
   "metadata": {},
   "outputs": [
    {
     "data": {
      "text/plain": [
       "Index(['id', 'dateAdded', 'dateUpdated', 'address', 'categories',\n",
       "       'primaryCategories', 'city', 'country', 'keys', 'latitude', 'longitude',\n",
       "       'name', 'postalCode', 'province', 'reviews.date', 'reviews.dateAdded',\n",
       "       'reviews.dateSeen', 'reviews.rating', 'reviews.sourceURLs',\n",
       "       'reviews.text', 'reviews.title', 'reviews.userCity',\n",
       "       'reviews.userProvince', 'reviews.username', 'sourceURLs', 'websites'],\n",
       "      dtype='object')"
      ]
     },
     "execution_count": 3,
     "metadata": {},
     "output_type": "execute_result"
    }
   ],
   "source": [
    "import os\n",
    "from os import listdir\n",
    "import pandas as pd\n",
    "#!pip install plotly\n",
    "import plotly.graph_objs as go\n",
    "df = pd.read_csv('hotel-reviews/Datafiniti_Hotel_Reviews_Jun19.csv', header=0)\n",
    "df.columns"
   ]
  },
  {
   "cell_type": "code",
   "execution_count": 4,
   "metadata": {},
   "outputs": [],
   "source": [
    "df.drop(columns=['dateAdded', 'dateUpdated', 'address', 'categories',\n",
    "       'primaryCategories', 'keys', 'reviews.date', 'reviews.dateAdded',\n",
    "       'reviews.dateSeen', 'reviews.userCity',\n",
    "       'reviews.userProvince', 'reviews.username', 'sourceURLs', 'websites'], inplace = True)\n",
    "df = df.rename(index=str, columns={'reviews.rating':'rating', 'reviews.sourceURLs': 'reviews_sourceURLs', 'reviews.text':'reviews_text', 'reviews.title': 'reviews_title'})"
   ]
  },
  {
   "cell_type": "code",
   "execution_count": 14,
   "metadata": {},
   "outputs": [
    {
     "data": {
      "text/html": [
       "<div>\n",
       "<style scoped>\n",
       "    .dataframe tbody tr th:only-of-type {\n",
       "        vertical-align: middle;\n",
       "    }\n",
       "\n",
       "    .dataframe tbody tr th {\n",
       "        vertical-align: top;\n",
       "    }\n",
       "\n",
       "    .dataframe thead th {\n",
       "        text-align: right;\n",
       "    }\n",
       "</style>\n",
       "<table border=\"1\" class=\"dataframe\">\n",
       "  <thead>\n",
       "    <tr style=\"text-align: right;\">\n",
       "      <th></th>\n",
       "      <th>id</th>\n",
       "      <th>city</th>\n",
       "      <th>country</th>\n",
       "      <th>latitude</th>\n",
       "      <th>longitude</th>\n",
       "      <th>name</th>\n",
       "      <th>postalCode</th>\n",
       "      <th>province</th>\n",
       "      <th>rating</th>\n",
       "      <th>reviews_sourceURLs</th>\n",
       "      <th>reviews_text</th>\n",
       "      <th>reviews_title</th>\n",
       "    </tr>\n",
       "  </thead>\n",
       "  <tbody>\n",
       "    <tr>\n",
       "      <th>0</th>\n",
       "      <td>AWE2FvX5RxPSIh2RscTK</td>\n",
       "      <td>Goleta</td>\n",
       "      <td>US</td>\n",
       "      <td>34.44178</td>\n",
       "      <td>-119.81979</td>\n",
       "      <td>Best Western Plus South Coast Inn</td>\n",
       "      <td>93117</td>\n",
       "      <td>CA</td>\n",
       "      <td>3</td>\n",
       "      <td>https://www.tripadvisor.com/Hotel_Review-g3243...</td>\n",
       "      <td>This hotel was nice and quiet. Did not know, t...</td>\n",
       "      <td>Best Western Plus Hotel</td>\n",
       "    </tr>\n",
       "    <tr>\n",
       "      <th>1</th>\n",
       "      <td>AVwcj_OhkufWRAb5wi9T</td>\n",
       "      <td>Carmel by the Sea</td>\n",
       "      <td>US</td>\n",
       "      <td>36.55722</td>\n",
       "      <td>-121.92194</td>\n",
       "      <td>Best Western Carmel's Town House Lodge</td>\n",
       "      <td>93921</td>\n",
       "      <td>CA</td>\n",
       "      <td>4</td>\n",
       "      <td>https://www.tripadvisor.com/Hotel_Review-g3217...</td>\n",
       "      <td>We stayed in the king suite with the separatio...</td>\n",
       "      <td>Clean rooms at solid rates in the heart of Carmel</td>\n",
       "    </tr>\n",
       "    <tr>\n",
       "      <th>2</th>\n",
       "      <td>AVwcj_OhkufWRAb5wi9T</td>\n",
       "      <td>Carmel by the Sea</td>\n",
       "      <td>US</td>\n",
       "      <td>36.55722</td>\n",
       "      <td>-121.92194</td>\n",
       "      <td>Best Western Carmel's Town House Lodge</td>\n",
       "      <td>93921</td>\n",
       "      <td>CA</td>\n",
       "      <td>3</td>\n",
       "      <td>https://www.tripadvisor.com/Hotel_Review-g3217...</td>\n",
       "      <td>Parking was horrible, somebody ran into my ren...</td>\n",
       "      <td>Business</td>\n",
       "    </tr>\n",
       "    <tr>\n",
       "      <th>3</th>\n",
       "      <td>AVwcj_OhkufWRAb5wi9T</td>\n",
       "      <td>Carmel by the Sea</td>\n",
       "      <td>US</td>\n",
       "      <td>36.55722</td>\n",
       "      <td>-121.92194</td>\n",
       "      <td>Best Western Carmel's Town House Lodge</td>\n",
       "      <td>93921</td>\n",
       "      <td>CA</td>\n",
       "      <td>5</td>\n",
       "      <td>https://www.tripadvisor.com/Hotel_Review-g3217...</td>\n",
       "      <td>Not cheap but excellent location. Price is som...</td>\n",
       "      <td>Very good</td>\n",
       "    </tr>\n",
       "    <tr>\n",
       "      <th>4</th>\n",
       "      <td>AVwcj_OhkufWRAb5wi9T</td>\n",
       "      <td>Carmel by the Sea</td>\n",
       "      <td>US</td>\n",
       "      <td>36.55722</td>\n",
       "      <td>-121.92194</td>\n",
       "      <td>Best Western Carmel's Town House Lodge</td>\n",
       "      <td>93921</td>\n",
       "      <td>CA</td>\n",
       "      <td>2</td>\n",
       "      <td>https://www.tripadvisor.com/Hotel_Review-g3217...</td>\n",
       "      <td>If you get the room that they advertised on th...</td>\n",
       "      <td>Low chance to come back here</td>\n",
       "    </tr>\n",
       "  </tbody>\n",
       "</table>\n",
       "</div>"
      ],
      "text/plain": [
       "                     id               city country  latitude  longitude  \\\n",
       "0  AWE2FvX5RxPSIh2RscTK             Goleta      US  34.44178 -119.81979   \n",
       "1  AVwcj_OhkufWRAb5wi9T  Carmel by the Sea      US  36.55722 -121.92194   \n",
       "2  AVwcj_OhkufWRAb5wi9T  Carmel by the Sea      US  36.55722 -121.92194   \n",
       "3  AVwcj_OhkufWRAb5wi9T  Carmel by the Sea      US  36.55722 -121.92194   \n",
       "4  AVwcj_OhkufWRAb5wi9T  Carmel by the Sea      US  36.55722 -121.92194   \n",
       "\n",
       "                                     name postalCode province  rating  \\\n",
       "0       Best Western Plus South Coast Inn      93117       CA       3   \n",
       "1  Best Western Carmel's Town House Lodge      93921       CA       4   \n",
       "2  Best Western Carmel's Town House Lodge      93921       CA       3   \n",
       "3  Best Western Carmel's Town House Lodge      93921       CA       5   \n",
       "4  Best Western Carmel's Town House Lodge      93921       CA       2   \n",
       "\n",
       "                                  reviews_sourceURLs  \\\n",
       "0  https://www.tripadvisor.com/Hotel_Review-g3243...   \n",
       "1  https://www.tripadvisor.com/Hotel_Review-g3217...   \n",
       "2  https://www.tripadvisor.com/Hotel_Review-g3217...   \n",
       "3  https://www.tripadvisor.com/Hotel_Review-g3217...   \n",
       "4  https://www.tripadvisor.com/Hotel_Review-g3217...   \n",
       "\n",
       "                                        reviews_text  \\\n",
       "0  This hotel was nice and quiet. Did not know, t...   \n",
       "1  We stayed in the king suite with the separatio...   \n",
       "2  Parking was horrible, somebody ran into my ren...   \n",
       "3  Not cheap but excellent location. Price is som...   \n",
       "4  If you get the room that they advertised on th...   \n",
       "\n",
       "                                       reviews_title  \n",
       "0                            Best Western Plus Hotel  \n",
       "1  Clean rooms at solid rates in the heart of Carmel  \n",
       "2                                           Business  \n",
       "3                                          Very good  \n",
       "4                       Low chance to come back here  "
      ]
     },
     "execution_count": 14,
     "metadata": {},
     "output_type": "execute_result"
    }
   ],
   "source": [
    "df.head()"
   ]
  },
  {
   "cell_type": "code",
   "execution_count": 5,
   "metadata": {},
   "outputs": [],
   "source": [
    "f= open(\"hotel_review.txt\",\"w+\")\n",
    "for i in range(df.shape[0]):\n",
    "    f.write(df.reviews_text[i])\n",
    "    f.write(\"\\n\")\n",
    "f.close()"
   ]
  },
  {
   "cell_type": "code",
   "execution_count": 6,
   "metadata": {},
   "outputs": [],
   "source": [
    "with open(\"hotel_review.txt\") as fp: \n",
    "    reviews = []\n",
    "    Lines = fp.readlines() \n",
    "    for line in Lines[:5]: \n",
    "        reviews.append(line)"
   ]
  },
  {
   "cell_type": "code",
   "execution_count": 7,
   "metadata": {
    "scrolled": false
   },
   "outputs": [
    {
     "data": {
      "text/plain": [
       "['This hotel was nice and quiet. Did not know, there was train track near by. But it was only few train passed during our stay. Best Western changed hotel classification. The Plus category are not the same as before.\\n',\n",
       " \"We stayed in the king suite with the separation between the bedroom and the living space. The sofa bed wasn't very good I had back discomfort by the day we left on our three night stay. The room is clean, and the king bed very comfortable. This hotel is located within walking distance to most places you will want to... More\\n\",\n",
       " \"Parking was horrible, somebody ran into my rental car while staying there. I didn't get to try the breakfast, I was there for business so the restaurant opened to late for the business world to enjoy, I had to asked for coffee for my room, And the items in the vending machine were stale.\\n\",\n",
       " 'Not cheap but excellent location. Price is somewhat standard for not hacing reservations. But room was nice and clean. They offer good continental breakfast which is a plus and compensates. Front desk service and personnel where excellent. It is Carmel, no A/C in rooms but they have a fan for air circulation.\\n',\n",
       " 'If you get the room that they advertised on the website and for what you paid, you may be lucky.If you stay many days , they will give you the not so good rooms.Nobody wants to stay in these rooms: low light/dark rooms, near pool, noisy, smelly bathrooms, or difficult access. If you stay one-two days you will get probably... More\\n']"
      ]
     },
     "execution_count": 7,
     "metadata": {},
     "output_type": "execute_result"
    }
   ],
   "source": [
    "reviews"
   ]
  },
  {
   "cell_type": "markdown",
   "metadata": {},
   "source": [
    "## 2. Amenity Extraction"
   ]
  },
  {
   "cell_type": "code",
   "execution_count": 24,
   "metadata": {},
   "outputs": [],
   "source": [
    "import nltk.data\n",
    "from os import listdir\n",
    "from os.path import isfile, join\n",
    "from nltk.util import bigrams \n",
    "from nltk.tokenize import TreebankWordTokenizer\n",
    "sentence_tokenizer = nltk.data.load('tokenizers/punkt/english.pickle')\n",
    "treebank_tokenizer = TreebankWordTokenizer()\n",
    "import numpy as np\n",
    "from nltk.stem import WordNetLemmatizer\n",
    "wordnet_lemmatizer = WordNetLemmatizer()\n",
    "from nltk.corpus import stopwords\n",
    "#stop_words = stopwords.words('english')"
   ]
  },
  {
   "cell_type": "code",
   "execution_count": 25,
   "metadata": {},
   "outputs": [],
   "source": [
    "#check if the element passed in is a float\n",
    "def isfloat(value):\n",
    "  try:\n",
    "    float(value)\n",
    "    #return true if it can be cast to a float\n",
    "    return True\n",
    "  except ValueError:\n",
    "    return False"
   ]
  },
  {
   "cell_type": "code",
   "execution_count": 208,
   "metadata": {
    "scrolled": true
   },
   "outputs": [],
   "source": [
    "stop_words = ['in','of','at','a','the']\n",
    "def process_text(text):\n",
    "    #tokenzie the text as sentences\n",
    "    punkt_sentences = sentence_tokenizer.tokenize(text)\n",
    "    #tokenize as lists of sentence lists of words\n",
    "    sentences_words = [treebank_tokenizer.tokenize(sentence) for sentence in punkt_sentences]\n",
    "    #get a list of words without punctuations\n",
    "    tokens = [word for sentence in sentences_words for word in sentence if word == 'A/C' or word.isalpha()]\n",
    "    #lemmatization \n",
    "    tokens = [wordnet_lemmatizer.lemmatize(word) for word in tokens]\n",
    "    #remove the stopwords\n",
    "    tokens = [word for word in tokens if not word in stop_words]\n",
    "    #remove numbers\n",
    "    tokens = [word for word in tokens if isfloat(word == False)]\n",
    "    #generate bigrams\n",
    "    bigrams = nltk.bigrams(tokens)\n",
    "    return tokens,list(bigrams)"
   ]
  },
  {
   "cell_type": "markdown",
   "metadata": {},
   "source": [
    "### Train a sentiment classifer"
   ]
  },
  {
   "cell_type": "code",
   "execution_count": 134,
   "metadata": {},
   "outputs": [],
   "source": [
    "import nltk.classify.util\n",
    "from nltk.classify import NaiveBayesClassifier\n",
    "from nltk.corpus import movie_reviews\n",
    " \n",
    "def word_feats(words):\n",
    "    return dict([(word, True) for word in words])\n",
    " \n",
    "negids = movie_reviews.fileids('neg')\n",
    "posids = movie_reviews.fileids('pos')\n",
    " \n",
    "negfeats = [(word_feats(movie_reviews.words(fileids=[f])), 'neg') for f in negids]\n",
    "posfeats = [(word_feats(movie_reviews.words(fileids=[f])), 'pos') for f in posids]\n",
    " \n",
    "negcutoff = int(len(negfeats)*3/4)\n",
    "poscutoff = int(len(posfeats)*3/4)\n",
    " \n",
    "#print(negcutoff)\n",
    "trainfeats = negfeats[:negcutoff] + posfeats[:poscutoff]\n",
    "testfeats = negfeats[negcutoff:] + posfeats[poscutoff:]\n",
    "#print('train on %d instances, test on %d instances' % (len(trainfeats), len(testfeats)))\n",
    " \n",
    "classifier = NaiveBayesClassifier.train(trainfeats)\n",
    "#print('accuracy:', nltk.classify.util.accuracy(classifier, testfeats))\n",
    "#classifier.show_most_informative_features()"
   ]
  },
  {
   "cell_type": "code",
   "execution_count": 203,
   "metadata": {},
   "outputs": [],
   "source": [
    "import pickle\n",
    "save_classifier = open(\"naivebayes.pickle\",\"wb\")\n",
    "pickle.dump(classifier, save_classifier)\n",
    "save_classifier.close()"
   ]
  },
  {
   "cell_type": "code",
   "execution_count": 204,
   "metadata": {},
   "outputs": [],
   "source": [
    "classifier_f = open(\"naivebayes.pickle\", \"rb\")\n",
    "classifier = pickle.load(classifier_f)\n",
    "classifier_f.close()"
   ]
  },
  {
   "cell_type": "code",
   "execution_count": 214,
   "metadata": {},
   "outputs": [
    {
     "data": {
      "text/plain": [
       "False"
      ]
     },
     "execution_count": 214,
     "metadata": {},
     "output_type": "execute_result"
    }
   ],
   "source": [
    "def senti(bigram):\n",
    "    return classifier.classify(word_feats(bigram.split())) == 'pos'\n",
    "sent('good')"
   ]
  },
  {
   "cell_type": "code",
   "execution_count": 216,
   "metadata": {},
   "outputs": [],
   "source": [
    "amenity_list = ['A/C','fan','parking','coffee','breakfast','pool','clean',\n",
    "             'kitchen','internet','computer','recreation','exercise',\n",
    "             'vending','locker','dryer','laundry']\n",
    "def amenity_extraction_hotel(hotel):\n",
    "    amenities = {}\n",
    "    for text in df[df['name'] == hotel]['reviews_text']:\n",
    "        tokens,bigrams = process_text(text)\n",
    "        for word in tokens:\n",
    "            for amenity in amenity_list:\n",
    "                if word.lower() == amenity.lower():\n",
    "                    if word not in amenities.keys():\n",
    "                        amenities.update({word:0})\n",
    "                    for bi in bigrams:\n",
    "                        if bi[1].lower == word.lower:\n",
    "                            #print(bi[0])\n",
    "                            #print(senti(bi[0]))\n",
    "                            if senti(bi[0]):\n",
    "                                amenities[word] += 1\n",
    "                            else:\n",
    "                                amenities[word] -= 1               \n",
    "    return amenities"
   ]
  },
  {
   "cell_type": "code",
   "execution_count": 212,
   "metadata": {},
   "outputs": [
    {
     "name": "stdout",
     "output_type": "stream",
     "text": [
      "is clean\n",
      "False\n",
      "try breakfast\n",
      "True\n",
      "for coffee\n",
      "True\n",
      "item vending\n",
      "False\n",
      "and clean\n",
      "True\n",
      "continental breakfast\n",
      "False\n",
      "no A/C\n",
      "False\n",
      "have fan\n",
      "False\n",
      "near pool\n",
      "True\n"
     ]
    },
    {
     "data": {
      "text/plain": [
       "{'clean': 0,\n",
       " 'Parking': 0,\n",
       " 'breakfast': 0,\n",
       " 'coffee': 1,\n",
       " 'vending': -1,\n",
       " 'A/C': -1,\n",
       " 'fan': -1,\n",
       " 'pool': 1}"
      ]
     },
     "execution_count": 212,
     "metadata": {},
     "output_type": "execute_result"
    }
   ],
   "source": [
    "#amenity_extraction_hotel(df['name'][4])"
   ]
  },
  {
   "cell_type": "markdown",
   "metadata": {},
   "source": [
    "### Extract amenties for all the hotels"
   ]
  },
  {
   "cell_type": "code",
   "execution_count": 217,
   "metadata": {},
   "outputs": [],
   "source": [
    "hotel_amenities = {}\n",
    "for hotel in df['name'].unique():\n",
    "    amenities = amenity_extraction_hotel(hotel)\n",
    "    hotel_amenities.update({hotel:amenities})"
   ]
  },
  {
   "cell_type": "markdown",
   "metadata": {},
   "source": [
    "## 3. More"
   ]
  },
  {
   "cell_type": "code",
   "execution_count": null,
   "metadata": {},
   "outputs": [],
   "source": []
  },
  {
   "cell_type": "code",
   "execution_count": 131,
   "metadata": {},
   "outputs": [
    {
     "name": "stdout",
     "output_type": "stream",
     "text": [
      "Carmel False\n"
     ]
    }
   ],
   "source": [
    "#!pip install negspacy\n",
    "import spacy\n",
    "from negspacy.negation import Negex\n",
    "\n",
    "nlp = spacy.load(\"en_core_web_sm\")\n",
    "negex = Negex(nlp, ent_types=[\"NOUN','PRODUCT\"])\n",
    "nlp.add_pipe(negex, last=True)\n",
    "\n",
    "doc = nlp(\"Like Carmel, no air-conditioner in rooms but they have a fan for air circulation. Nice pool, nice food, bad car service.\")\n",
    "for e in doc.ents:\n",
    "    print(e.text, e._.negex)"
   ]
  },
  {
   "cell_type": "code",
   "execution_count": null,
   "metadata": {},
   "outputs": [],
   "source": []
  },
  {
   "cell_type": "code",
   "execution_count": null,
   "metadata": {},
   "outputs": [],
   "source": []
  }
 ],
 "metadata": {
  "kernelspec": {
   "display_name": "Python 3",
   "language": "python",
   "name": "python3"
  },
  "language_info": {
   "codemirror_mode": {
    "name": "ipython",
    "version": 3
   },
   "file_extension": ".py",
   "mimetype": "text/x-python",
   "name": "python",
   "nbconvert_exporter": "python",
   "pygments_lexer": "ipython3",
   "version": "3.7.6"
  }
 },
 "nbformat": 4,
 "nbformat_minor": 2
}
