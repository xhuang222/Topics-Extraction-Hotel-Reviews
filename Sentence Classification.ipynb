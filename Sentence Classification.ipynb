{
 "cells": [
  {
   "cell_type": "markdown",
   "metadata": {},
   "source": [
    "# Sentence Classification Model Building\n",
    "## Training the model with Naive Bayes and SVM"
   ]
  },
  {
   "cell_type": "code",
   "execution_count": 1,
   "metadata": {},
   "outputs": [],
   "source": [
    "import spacy\n",
    "#import en_core_web_lg\n",
    "#nlp = en_core_web_lg.load()\n",
    "nlp = spacy.load('en_core_web_lg')\n",
    "\n",
    "#import neuralcoref\n",
    "#neuralcoref.add_to_pipe(nlp)\n",
    "\n",
    "# Define function for replacing pronouns using neuralcoref\n",
    "#def replace_pronouns(text):\n",
    " #   doc = nlp(text)\n",
    "  #  return doc._.coref_resolved"
   ]
  },
  {
   "cell_type": "code",
   "execution_count": 2,
   "metadata": {},
   "outputs": [
    {
     "data": {
      "text/html": [
       "<div>\n",
       "<style scoped>\n",
       "    .dataframe tbody tr th:only-of-type {\n",
       "        vertical-align: middle;\n",
       "    }\n",
       "\n",
       "    .dataframe tbody tr th {\n",
       "        vertical-align: top;\n",
       "    }\n",
       "\n",
       "    .dataframe thead th {\n",
       "        text-align: right;\n",
       "    }\n",
       "</style>\n",
       "<table border=\"1\" class=\"dataframe\">\n",
       "  <thead>\n",
       "    <tr style=\"text-align: right;\">\n",
       "      <th></th>\n",
       "      <th>Sentence</th>\n",
       "      <th>Aspect</th>\n",
       "    </tr>\n",
       "  </thead>\n",
       "  <tbody>\n",
       "    <tr>\n",
       "      <td>0</td>\n",
       "      <td>LOVED THE HAMPTON INN SEAPORT!!!!!!!!!!!!!!!!!!</td>\n",
       "      <td>['OTHER']</td>\n",
       "    </tr>\n",
       "    <tr>\n",
       "      <td>1</td>\n",
       "      <td>Just returned from a 3 night stay.</td>\n",
       "      <td>['NOTRELATED']</td>\n",
       "    </tr>\n",
       "    <tr>\n",
       "      <td>2</td>\n",
       "      <td>This is a FABULOUS hotel.</td>\n",
       "      <td>['OTHER']</td>\n",
       "    </tr>\n",
       "  </tbody>\n",
       "</table>\n",
       "</div>"
      ],
      "text/plain": [
       "                                          Sentence          Aspect\n",
       "0  LOVED THE HAMPTON INN SEAPORT!!!!!!!!!!!!!!!!!!       ['OTHER']\n",
       "1               Just returned from a 3 night stay.  ['NOTRELATED']\n",
       "2                        This is a FABULOUS hotel.       ['OTHER']"
      ]
     },
     "execution_count": 2,
     "metadata": {},
     "output_type": "execute_result"
    }
   ],
   "source": [
    "import pandas as pd\n",
    "# Read annotated reviews df, which is the labeled dataset for training\n",
    "# This is located in the pickled files folder\n",
    "aspect_train_df = pd.read_csv('aspect_train.csv')\n",
    "aspect_test_df = pd.read_csv('aspect_test.csv')\n",
    "aspect_train_df.head(3)"
   ]
  },
  {
   "cell_type": "code",
   "execution_count": 3,
   "metadata": {},
   "outputs": [],
   "source": [
    "# Create a new column for text whose pronouns have been replaced\n",
    "#aspect_train_df[\"text_pro\"] = aspect_train_df.Sentence.map(lambda x: replace_pronouns(x))\n",
    "#aspect_test_df[\"text_pro\"] = aspect_test_df.Sentence.map(lambda x: replace_pronouns(x))\n",
    "#aspect_train_df.head(3)"
   ]
  },
  {
   "cell_type": "code",
   "execution_count": 4,
   "metadata": {},
   "outputs": [],
   "source": [
    "def clean_y(y):\n",
    "    for i in range(len(y)):\n",
    "        temp = []\n",
    "        for j in y[i][1:-1].split(','):\n",
    "            temp.append(j.strip(\"' \"))\n",
    "        y[i] = temp\n",
    "    return y"
   ]
  },
  {
   "cell_type": "code",
   "execution_count": 5,
   "metadata": {},
   "outputs": [],
   "source": [
    "from sklearn.preprocessing import MultiLabelBinarizer\n",
    "import pickle\n",
    "y_train = clean_y(aspect_train_df[\"Aspect\"].values)\n",
    "y_test = clean_y(aspect_test_df[\"Aspect\"].values)\n",
    "# Convert the multi-labels into arrays\n",
    "mlb = MultiLabelBinarizer()\n",
    "mlb.fit([[\"ROOMS\", \"CLEANLINESS\", \"VALUE\", \"SERVICE\", \"LOCATION\", \"CHECKIN\", \"BUSINESS\", \"FOOD\", \"BUILDING\", \"OTHER\", \"NOTRELATED\"]])\n",
    "\n",
    "y_train = mlb.transform(y_train)\n",
    "y_test = mlb.transform(y_test)\n",
    "X_train = aspect_train_df.Sentence\n",
    "X_test = aspect_test_df.Sentence\n",
    "\n",
    "# save the the fitted binarizer labels\n",
    "# This is important: it contains the how the multi-label was binarized, so you need to\n",
    "# load this in the next folder in order to undo the transformation for the correct labels.\n",
    "filename = 'mlb.pkl'\n",
    "pickle.dump(mlb, open(filename, 'wb'))"
   ]
  },
  {
   "cell_type": "code",
   "execution_count": 6,
   "metadata": {},
   "outputs": [],
   "source": [
    "def bce(y_pred, y_true):\n",
    "    err = len(np.argwhere(y_pred != y_true))\n",
    "    bce = err/(y_pred.shape[0])\n",
    "    return bce"
   ]
  },
  {
   "cell_type": "code",
   "execution_count": 7,
   "metadata": {},
   "outputs": [
    {
     "name": "stdout",
     "output_type": "stream",
     "text": [
      "Accuracy is 91.30\n",
      "BCE is 0.96\n"
     ]
    }
   ],
   "source": [
    "from sklearn.feature_extraction.text import CountVectorizer\n",
    "from sklearn.feature_extraction.text import TfidfTransformer\n",
    "from sklearn.pipeline import Pipeline\n",
    "from sklearn.naive_bayes import MultinomialNB\n",
    "from skmultilearn.problem_transform import LabelPowerset\n",
    "import numpy as np\n",
    "\n",
    "# LabelPowerset allows for multi-label classification\n",
    "# Build a pipeline for multinomial naive bayes classification\n",
    "text_clf = Pipeline([('vect', CountVectorizer(ngram_range=(1, 2))),\n",
    "                     ('tfidf', TfidfTransformer()),\n",
    "                     ('clf', LabelPowerset(MultinomialNB(alpha=1e-1))),])\n",
    "text_clf = text_clf.fit(X_train, y_train)\n",
    "predicted = text_clf.predict(X_test)\n",
    "\n",
    "# Calculate accuracy and binary cross entrophy\n",
    "print('Accuracy is %.2f' % (np.mean(predicted == y_test) * 100))\n",
    "print('BCE is %.2f' % (bce(predicted, y_test)))"
   ]
  },
  {
   "cell_type": "code",
   "execution_count": 8,
   "metadata": {},
   "outputs": [
    {
     "name": "stderr",
     "output_type": "stream",
     "text": [
      "C:\\Users\\xyyao\\Anaconda3\\lib\\site-packages\\sklearn\\linear_model\\stochastic_gradient.py:561: ConvergenceWarning: Maximum number of iteration reached before convergence. Consider increasing max_iter to improve the fit.\n",
      "  ConvergenceWarning)\n"
     ]
    },
    {
     "name": "stdout",
     "output_type": "stream",
     "text": [
      "Accuracy is 92.12\n",
      "BCE is 0.87\n"
     ]
    }
   ],
   "source": [
    "from sklearn.linear_model import SGDClassifier\n",
    "# loss: The loss function to be used. Defaults to ‘hinge’, which gives a linear SVM.\n",
    "text_clf_svm = Pipeline([('vect', CountVectorizer()),\n",
    "                         ('tfidf', TfidfTransformer()),\n",
    "                         ('clf-svm', LabelPowerset(\n",
    "                             SGDClassifier(loss='hinge', penalty='l2',\n",
    "                                           alpha=1e-3, max_iter=10, random_state=42)))])\n",
    "_ = text_clf_svm.fit(X_train, y_train)\n",
    "predicted_svm = text_clf_svm.predict(X_test)\n",
    "\n",
    "# Calculate accuracy and binary cross entrophy\n",
    "print('Accuracy is %.2f' % (np.mean(predicted_svm == y_test) * 100))\n",
    "print('BCE is %.2f' % (bce(predicted_svm, y_test)))"
   ]
  },
  {
   "cell_type": "code",
   "execution_count": 9,
   "metadata": {},
   "outputs": [
    {
     "name": "stdout",
     "output_type": "stream",
     "text": [
      "[[[1199    9]\n",
      "  [  51   13]]\n",
      "\n",
      " [[1263    2]\n",
      "  [   5    2]]\n",
      "\n",
      " [[1223    3]\n",
      "  [  36   10]]\n",
      "\n",
      " [[1199    2]\n",
      "  [  47   24]]\n",
      "\n",
      " [[1116   39]\n",
      "  [  41   76]]\n",
      "\n",
      " [[1102   21]\n",
      "  [  53   96]]\n",
      "\n",
      " [[1110   14]\n",
      "  [ 133   15]]\n",
      "\n",
      " [[ 678  208]\n",
      "  [  94  292]]\n",
      "\n",
      " [[ 963   89]\n",
      "  [  51  169]]\n",
      "\n",
      " [[1009   53]\n",
      "  [  82  128]]\n",
      "\n",
      " [[1184   13]\n",
      "  [  56   19]]]\n"
     ]
    }
   ],
   "source": [
    "from sklearn.metrics import multilabel_confusion_matrix\n",
    "print(multilabel_confusion_matrix(y_test, predicted_svm))"
   ]
  },
  {
   "cell_type": "markdown",
   "metadata": {},
   "source": [
    "Here we find the annotated train dataset is highly unbalanced: there are only 7 sentences labeled as related to 'CLEANLINESS' while 386 labels related to 'FOOD'. Therefore, the svm model perform better in aspects with more labels such as \"LOCATION\", \"CHECKIN\", \"FOOD\", \"BUILDING\", \"OTHER\"."
   ]
  },
  {
   "cell_type": "code",
   "execution_count": 10,
   "metadata": {},
   "outputs": [],
   "source": [
    "pred_df = pd.DataFrame(\n",
    "    {'text': X_test,\n",
    "     'pred_category': mlb.inverse_transform(predicted_svm),\n",
    "     'true_label': mlb.inverse_transform(y_test)\n",
    "    })"
   ]
  },
  {
   "cell_type": "code",
   "execution_count": 11,
   "metadata": {},
   "outputs": [
    {
     "data": {
      "text/html": [
       "<div>\n",
       "<style scoped>\n",
       "    .dataframe tbody tr th:only-of-type {\n",
       "        vertical-align: middle;\n",
       "    }\n",
       "\n",
       "    .dataframe tbody tr th {\n",
       "        vertical-align: top;\n",
       "    }\n",
       "\n",
       "    .dataframe thead th {\n",
       "        text-align: right;\n",
       "    }\n",
       "</style>\n",
       "<table border=\"1\" class=\"dataframe\">\n",
       "  <thead>\n",
       "    <tr style=\"text-align: right;\">\n",
       "      <th></th>\n",
       "      <th>text</th>\n",
       "      <th>pred_category</th>\n",
       "      <th>true_label</th>\n",
       "    </tr>\n",
       "  </thead>\n",
       "  <tbody>\n",
       "    <tr>\n",
       "      <td>0</td>\n",
       "      <td>pleasant enough Stayed at the</td>\n",
       "      <td>(OTHER,)</td>\n",
       "      <td>(OTHER,)</td>\n",
       "    </tr>\n",
       "    <tr>\n",
       "      <td>1</td>\n",
       "      <td>Singel for 2 nights for a football trip, the place is easy to find, in a good location, near the station,on the Singel canal, next to a church.</td>\n",
       "      <td>(LOCATION,)</td>\n",
       "      <td>(LOCATION,)</td>\n",
       "    </tr>\n",
       "    <tr>\n",
       "      <td>2</td>\n",
       "      <td>Room was comfy and very well heated if a little basic, breakfast was good a variety of cereals, breads, cheese, meats, etc, boiled eggs, juice, teacoffeeAll in all a pleasant enough place for a couple of days, mind you we didnt get to bed until 3:30 the first night and well after 4 on the second.</td>\n",
       "      <td>(FOOD,)</td>\n",
       "      <td>(ROOMS,)</td>\n",
       "    </tr>\n",
       "    <tr>\n",
       "      <td>3</td>\n",
       "      <td>The guy I roomed with works in pest control and was a stickler about vermin bed bugs etc before we went and he had no complaints unlike some of our other guys who stayed elsewhere in the city so read into that what you will</td>\n",
       "      <td>(ROOMS,)</td>\n",
       "      <td>(CLEANLINESS,)</td>\n",
       "    </tr>\n",
       "    <tr>\n",
       "      <td>4</td>\n",
       "      <td>Exceeded our expectations!</td>\n",
       "      <td>(OTHER,)</td>\n",
       "      <td>(OTHER,)</td>\n",
       "    </tr>\n",
       "    <tr>\n",
       "      <td>...</td>\n",
       "      <td>...</td>\n",
       "      <td>...</td>\n",
       "      <td>...</td>\n",
       "    </tr>\n",
       "    <tr>\n",
       "      <td>1267</td>\n",
       "      <td>As I said I would recommend this resort to anyone wanting to relax, be totally pampered, and enjoy some of the benefits of the good life.</td>\n",
       "      <td>(OTHER,)</td>\n",
       "      <td>(OTHER,)</td>\n",
       "    </tr>\n",
       "    <tr>\n",
       "      <td>1268</td>\n",
       "      <td>By the way, I read somewhere that the place was overcrowded with locals paying only a small daily fee to get in.</td>\n",
       "      <td>(OTHER,)</td>\n",
       "      <td>(OTHER,)</td>\n",
       "    </tr>\n",
       "    <tr>\n",
       "      <td>1269</td>\n",
       "      <td>This is somewhat true, but undestand that these people are paying abut $50 dollars per person for only the use of the swimming pool and a few of the other pleasures of the resort.</td>\n",
       "      <td>(BUILDING,)</td>\n",
       "      <td>(OTHER,)</td>\n",
       "    </tr>\n",
       "    <tr>\n",
       "      <td>1270</td>\n",
       "      <td>A family of 4 cost about $200, so your not dealing with a bunch of out of control kids running around with one adult trying to wrangle them, these people are paying very good money for the day use only of these things, and are not a problem at all.</td>\n",
       "      <td>(ROOMS,)</td>\n",
       "      <td>(OTHER,)</td>\n",
       "    </tr>\n",
       "    <tr>\n",
       "      <td>1271</td>\n",
       "      <td>Oh yeah, the casino is very nice, and drinks thre are always free (Hold'em tournament every Saturday Night)</td>\n",
       "      <td>(SERVICE,)</td>\n",
       "      <td>(FOOD, OTHER)</td>\n",
       "    </tr>\n",
       "  </tbody>\n",
       "</table>\n",
       "<p>1272 rows × 3 columns</p>\n",
       "</div>"
      ],
      "text/plain": [
       "                                                                                                                                                                                                                                                                                                           text  \\\n",
       "0     pleasant enough Stayed at the                                                                                                                                                                                                                                                                               \n",
       "1     Singel for 2 nights for a football trip, the place is easy to find, in a good location, near the station,on the Singel canal, next to a church.                                                                                                                                                             \n",
       "2     Room was comfy and very well heated if a little basic, breakfast was good a variety of cereals, breads, cheese, meats, etc, boiled eggs, juice, teacoffeeAll in all a pleasant enough place for a couple of days, mind you we didnt get to bed until 3:30 the first night and well after 4 on the second.   \n",
       "3     The guy I roomed with works in pest control and was a stickler about vermin bed bugs etc before we went and he had no complaints unlike some of our other guys who stayed elsewhere in the city so read into that what you will                                                                             \n",
       "4     Exceeded our expectations!                                                                                                                                                                                                                                                                                  \n",
       "...                          ...                                                                                                                                                                                                                                                                                  \n",
       "1267  As I said I would recommend this resort to anyone wanting to relax, be totally pampered, and enjoy some of the benefits of the good life.                                                                                                                                                                   \n",
       "1268  By the way, I read somewhere that the place was overcrowded with locals paying only a small daily fee to get in.                                                                                                                                                                                            \n",
       "1269  This is somewhat true, but undestand that these people are paying abut $50 dollars per person for only the use of the swimming pool and a few of the other pleasures of the resort.                                                                                                                         \n",
       "1270  A family of 4 cost about $200, so your not dealing with a bunch of out of control kids running around with one adult trying to wrangle them, these people are paying very good money for the day use only of these things, and are not a problem at all.                                                    \n",
       "1271  Oh yeah, the casino is very nice, and drinks thre are always free (Hold'em tournament every Saturday Night)                                                                                                                                                                                                 \n",
       "\n",
       "     pred_category      true_label  \n",
       "0     (OTHER,)      (OTHER,)        \n",
       "1     (LOCATION,)   (LOCATION,)     \n",
       "2     (FOOD,)       (ROOMS,)        \n",
       "3     (ROOMS,)      (CLEANLINESS,)  \n",
       "4     (OTHER,)      (OTHER,)        \n",
       "...        ...           ...        \n",
       "1267  (OTHER,)      (OTHER,)        \n",
       "1268  (OTHER,)      (OTHER,)        \n",
       "1269  (BUILDING,)   (OTHER,)        \n",
       "1270  (ROOMS,)      (OTHER,)        \n",
       "1271  (SERVICE,)    (FOOD, OTHER)   \n",
       "\n",
       "[1272 rows x 3 columns]"
      ]
     },
     "execution_count": 11,
     "metadata": {},
     "output_type": "execute_result"
    }
   ],
   "source": [
    "pd.set_option('display.max_colwidth', -1)\n",
    "pred_df.to_csv('svm_pred.csv', index=False)\n",
    "pred_df"
   ]
  },
  {
   "cell_type": "code",
   "execution_count": 12,
   "metadata": {},
   "outputs": [],
   "source": [
    "pd.set_option('display.max_colwidth', -1)\n",
    "sub = pred_df[pred_df['pred_category'] != pred_df['true_label']]\n",
    "sub.to_csv('error_analysis.csv', index=False)"
   ]
  },
  {
   "cell_type": "code",
   "execution_count": null,
   "metadata": {},
   "outputs": [],
   "source": [
    "# Train svm on full dataset and save model\n",
    "X = np.concatenate((X_train, X_test), axis=0)\n",
    "y = np.concatenate((y_train, y_test), axis=0)\n",
    "text_clf_svm = Pipeline([('vect', CountVectorizer()),\n",
    "                         ('tfidf', TfidfTransformer()),\n",
    "                         ('clf-svm', LabelPowerset(\n",
    "                             SGDClassifier(loss='hinge', penalty='l2',\n",
    "                                           alpha=1e-3, max_iter=10, random_state=42)))])\n",
    "text_clf = text_clf_svm.fit(X, y)\n",
    "\n",
    "# save the model to disk\n",
    "filename = 'svm_model.pkl'\n",
    "pickle.dump(text_clf, open(filename, 'wb'))"
   ]
  },
  {
   "cell_type": "code",
   "execution_count": null,
   "metadata": {},
   "outputs": [],
   "source": [
    "# Here is how to load model and mlb to do predict\n",
    "# svm_model = pickle.load(open('svm_model.pkl', 'rb'))\n",
    "# mlb = pickle.load(open('mlb.pkl', 'rb'))\n",
    "# pred = mlb.inverse_transform(svm_model.predict(X_test))"
   ]
  }
 ],
 "metadata": {
  "kernelspec": {
   "display_name": "Python 3",
   "language": "python",
   "name": "python3"
  },
  "language_info": {
   "codemirror_mode": {
    "name": "ipython",
    "version": 3
   },
   "file_extension": ".py",
   "mimetype": "text/x-python",
   "name": "python",
   "nbconvert_exporter": "python",
   "pygments_lexer": "ipython3",
   "version": "3.7.4"
  }
 },
 "nbformat": 4,
 "nbformat_minor": 2
}
